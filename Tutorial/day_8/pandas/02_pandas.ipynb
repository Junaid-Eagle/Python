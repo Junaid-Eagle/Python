{
 "cells": [
  {
   "cell_type": "code",
   "execution_count": null,
   "metadata": {},
   "outputs": [],
   "source": [
    "# Tabulated formed of data called structured data otherwise it is unstructured data\n",
    "# in specialization we used unstructured data like image analysis video audio analusis"
   ]
  },
  {
   "cell_type": "code",
   "execution_count": null,
   "metadata": {},
   "outputs": [],
   "source": [
    "# we need to collec data\n",
    "# why we need data\n",
    "# how we get the data\n",
    "# where we get data\n",
    "# who will collect data\n",
    "# how will collect data\n",
    "# my data is called primary data which is more expensive if we gather some data is called secondary data\n",
    "# As a data scientist our responsibilities is:  \n"
   ]
  },
  {
   "cell_type": "code",
   "execution_count": null,
   "metadata": {},
   "outputs": [],
   "source": [
    "# understand business\n",
    "# make data understanding\n",
    "# data preprocessing\n",
    "# data modelling\n",
    "# data visualization\n",
    "# data analysis\n",
    "# data analysis\n",
    "# deploye model, monitor and optimize"
   ]
  },
  {
   "cell_type": "code",
   "execution_count": null,
   "metadata": {},
   "outputs": [],
   "source": [
    "# data analytics\n",
    "# required information about data\n",
    "# assigned goal\n",
    "# pre determined goal\n",
    "# data cleaning\n",
    "# data preprocessing\n",
    "# EDA - Exploratory data analysis\n",
    "# inferencing : - predictive modeling \n"
   ]
  },
  {
   "cell_type": "code",
   "execution_count": null,
   "metadata": {},
   "outputs": [],
   "source": [
    "# # Data scientist is a bossy level jobs:\n",
    "# <p>1. A data scientist who can manage and lead a team of data analysts</p>\n",
    "# <p>2. A data scientist who can manage and lead a team of data analysts</p>\n",
    "# <p>3. A data scientist who can manage and lead a team of data analysts</p>\n",
    "\n",
    "# Data Scientists are responsible for designing, developing, implementing, maintaining, interpreting, and evaluating data.\n",
    "# The first point is the most important one, as it sets the tone for how other tasks will be carried out. If you are unable to effectively communicate your vision and guide others in achieving their goals, then not a data scientist.\n",
    "# Data Scientists are not just \"computer wizards\" but also skilled communicators"
   ]
  },
  {
   "cell_type": "code",
   "execution_count": null,
   "metadata": {},
   "outputs": [],
   "source": [
    "# levels of measurement\n",
    "# nominal   : data as a name format male/female , red/green/blue etc.\n",
    "# ordinal   : data arranged in order, temperature hot/cold etc.\n",
    "# ratio     : data represents a proportion or relative measure such as weight /10kg etc.\n",
    "# interval  : data is a range within a specific set of values such as age 5-10 etc.\n",
    "# measure   : data represents a specific value such as weight 10kg etc.\n",
    "# time      :data representing points in the past such as \"yesterday\" or \"last week\".</s\n",
    "# date      :data representing points in the past such as \"yesterday\" or \"last week\".\n",
    "# datetime  :data representing points in the past such as \"yesterday\" or \"last week\".\n",
    "# categorical : data as a name format male/female , red/green/blue etc.  \n",
    "# text      :data as a name format male/female , red/green/blue etc.\n",
    "# image     :graphic representation like picture \n",
    "# video     :audio and visual recording \n",
    "\n"
   ]
  }
 ],
 "metadata": {
  "language_info": {
   "name": "python"
  }
 },
 "nbformat": 4,
 "nbformat_minor": 2
}
