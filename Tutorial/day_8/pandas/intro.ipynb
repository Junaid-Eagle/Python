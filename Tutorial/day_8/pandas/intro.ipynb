{
 "cells": [
  {
   "cell_type": "code",
   "execution_count": null,
   "metadata": {},
   "outputs": [],
   "source": [
    "# Pandas is used for data analysis and visualisation\n",
    "# open source and developed in 2008\n",
    "# used for python for data analysis\n",
    "# used for numFOCUS sponsored project\n",
    "# lot of active contributors available\n",
    "# developed by wes mickinney\n",
    "# he has completed project like python for data analysis, Apache arrow, pandas, lbis, apache paraquet\n",
    "# member ali mc master and 2000 volunteers contributors"
   ]
  }
 ],
 "metadata": {
  "language_info": {
   "name": "python"
  }
 },
 "nbformat": 4,
 "nbformat_minor": 2
}
