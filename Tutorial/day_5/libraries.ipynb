{
 "cells": [
  {
   "cell_type": "markdown",
   "metadata": {},
   "source": [
    "#### Pnadas: used as excel, \n",
    "#### numpy: used as understand the datatype dimensionality\n",
    "#### matplotlib: for plotting, graphs line graph, bar graph\n",
    "#### seaborn: based on matplotlib also some extra function included\n",
    "#### plotly: awesome library, to plot interactive plot using plotly, 3D or animated plot\n",
    "#### scipy: used for statistical analysis and scientific computing. It contains modules for optimization, integration, interpolation, ODE solvers, signal\n",
    "#### scikit-learn: used for machine learning, prediction model\n",
    "#### keras:\n",
    "#### streamlit : for making proper dashboard, dynamic dashboard make your thesis on streamlit, make some data science app if you become master in these libraries beleive me you gonna rock\n",
    "\n",
    "#### EDA Analysis: People making good money using these libraries"
   ]
  },
  {
   "cell_type": "markdown",
   "metadata": {},
   "source": []
  },
  {
   "cell_type": "markdown",
   "metadata": {},
   "source": [
    "#### what is plotly\n",
    "<s>Plotly is a data visualization library based on MATLAB, developed by the \n",
    "Plotly team at Meta Platforms (ex-Facebook). It provides an interactive and\n",
    "high-performance graphing capability that can be used to create complex plots. The\n"
   ]
  },
  {
   "cell_type": "code",
   "execution_count": null,
   "metadata": {},
   "outputs": [],
   "source": [
    "pd.read_excel()"
   ]
  },
  {
   "cell_type": "code",
   "execution_count": 8,
   "metadata": {},
   "outputs": [],
   "source": [
    "import pandas as pd\n",
    "import numpy as np\n",
    "import matplotlib.pyplot as plt\n",
    "import plotly as px\n",
    "import seaborn as sns\n"
   ]
  },
  {
   "cell_type": "code",
   "execution_count": null,
   "metadata": {},
   "outputs": [],
   "source": [
    "# ploting\n"
   ]
  }
 ],
 "metadata": {
  "kernelspec": {
   "display_name": "Python 3",
   "language": "python",
   "name": "python3"
  },
  "language_info": {
   "codemirror_mode": {
    "name": "ipython",
    "version": 3
   },
   "file_extension": ".py",
   "mimetype": "text/x-python",
   "name": "python",
   "nbconvert_exporter": "python",
   "pygments_lexer": "ipython3",
   "version": "3.12.1"
  }
 },
 "nbformat": 4,
 "nbformat_minor": 2
}
